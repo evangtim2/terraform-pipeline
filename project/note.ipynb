{
 "cells": [
  {
   "cell_type": "markdown",
   "metadata": {},
   "source": [
    "To install git on aws ec2 instance:\n",
    "1. git --version # to get the version info\n",
    "2. sudo yum remove git -y\n",
    "3. sudo yum install git -y\n",
    "4. git login"
   ]
  },
  {
   "cell_type": "markdown",
   "metadata": {},
   "source": [
    "To install jenkins on aws ec2 instance linux:\n",
    "1. How to download and install jenkins on aws ec2 linux\n",
    "2. How to access Jenkins from browser\n",
    "3. Hot to start and stop Jenkins\n",
    "4. How to start jenkins on different port\n",
    "5. How to uninstall jenkins\n",
    "\n",
    "To install Jenkins:\n",
    "1. sudo yum update\n",
    "2. java -version #in case if it is not java 8, \n",
    "3. to check and select one out of multiple java versions available: sudo /usr/sbin/alternatives --config java\n",
    "4. sudo yum install java-1.8.0 #if java is not installed\n",
    "Download latest jenkins code package\n",
    "5. sudo wget -O /etc/yum.repos.d/jenkins.repo http://pkg.jenkins-ci.org/redhat/jenkins.repo\n",
    "Import a key file from Jenkins-CI to enalbe installation from the package\n",
    "6. sudo rpm --import http://pkg.jenkins-ci.org/redhat/jenkins-ci.org.key\n",
    "to install jenkins now\n",
    "7. sudo yum install jenkins\n",
    "to start jenkins\n",
    "8. sudo service jenkins start\n",
    "to access jenkins server using the public dns of your ec2 on port 8080\n",
    "9. http://ec2-public-dns:8080 example: http://3.89.79.74:8080\n",
    "if you want to start jenkins on a different port, update port number in \n",
    "10. /etc/sysconfig/jenkins\n",
    "To fetch initial admin password, do:\n",
    "11. sudo su - \n",
    "12. cd /var/lib/jenkins/secrets/\n",
    "13. cat initialAdminPassword\n",
    "to uninstall jenkins\n",
    "14. sudo service jenkins stop\n",
    "15. sudo yum remove jenkins\n",
    "16. sudo rm -r /var/lib/jenkins #this removes jenkins folders"
   ]
  },
  {
   "cell_type": "markdown",
   "metadata": {},
   "source": [
    "How to install terraform in aws ec2\n",
    "1. Get terraform package: wget https://releases.hashicorp.com/terraform/0.11.13/terraform_0.11.13_linux_amd64.zip\n",
    "2. Unzip the package: unzip terraform_0.11.13_linux_amd64.zip\n",
    "3. Move the package to /usr/local/bin: sudo mv terraform /usr/local/bin/ && rm terraform_0.11.13_linux_amd64.zip\n",
    "4. check if terraform is working properly: terraform --version\n",
    "\n",
    "To create a file to test the terraform\n",
    "1. Create directory and get inside it: mkdir terraform && cd terraform\n",
    "2. Create your 1st terraform script: vi main.tf\n",
    "3. Create a VPC with cidr block 10.0.0.0/16:"
   ]
  },
  {
   "cell_type": "code",
   "execution_count": null,
   "metadata": {},
   "outputs": [],
   "source": [
    "provider \"aws\" {\n",
    "    access_key = \"<your_access_key>\"\n",
    "    secret_key = \"<your_secret_key>\"\n",
    "    region = \"ap-south-1\"\n",
    "}\n",
    "\n",
    "resource \"aws_vpc\" \"myvpc\" {\n",
    "    cidr_block = \"10.0.0.0/16\"\n",
    "\n",
    "    tags {\n",
    "        name = \"myvpc\"\n",
    "    }\n",
    "}"
   ]
  },
  {
   "cell_type": "markdown",
   "metadata": {},
   "source": [
    "Auto format the terraform files:\n",
    "terraform fmt\n",
    "\n",
    "Initialize terraform\n",
    "terraform init\n",
    "\n",
    "create the terraform plan\n",
    "terraform plan\n",
    "\n",
    "create the resources, type yes when prompted\n",
    "terraform apply\n",
    "\n",
    "Delete the resources, type yes when prompted\n",
    "terraform destroy\n",
    "\n",
    "check files (due to above destroy, terraform.tfstate fiel empties and terraform.tfstate.backup created as backup)\n",
    "ls\n",
    "cat terraform.tfstate\n",
    "cat terraform.tfstate.backup\n",
    "\n",
    "To cleanup\n",
    "cd .. && rm -rf terraform"
   ]
  },
  {
   "cell_type": "markdown",
   "metadata": {},
   "source": [
    "To Build Terraform Pipeline in Jenkins\n",
    "1. Install java\n",
    "2. Install Jenkins\n",
    "3. Install git\n",
    "4. Install terraform = download terraform, then unzip it and do the above\n",
    "\n",
    "After installing Jenkins:\n",
    "1. go to manage jenkins\n",
    "2. go to manage plugins\n",
    "3. to to available\n",
    "4. search of terraform\n",
    "5. select terraform and click install without restart\n",
    "6. go back to top of page\n",
    "\n",
    "In order to configure terraform\n",
    "1. go to manage jenkins\n",
    "2. go to global tool configuration\n",
    "3. scroll down to terraform, click add terraform\n",
    "4. add name: terraform\n",
    "5. chose a version that suites your OS, such as Linux amd64\n",
    "6. better do it manually by unchecking the install automatically, then define a location, eg. terraform installed directory: /usr/bin\n",
    "7. apply and save\n",
    "\n",
    "Configure your variables\n",
    "1. go to manage credentials\n",
    "2. go to jenkins\n",
    "3. go to global credentials\n",
    "4. go to add credentials\n",
    "5. go to kind: select from the drop down: secret text\n",
    "6. add ID: github_api: CHECK BELOW ON HOW TO GET THAT\n",
    "7. copy the secret token and paste on secret\n",
    "8. click okay"
   ]
  },
  {
   "cell_type": "markdown",
   "metadata": {},
   "source": [
    "#6 above: To get github_api\n",
    "1. go to user icon, select setting\n",
    "2. go to developer settings\n",
    "3. go to personal access tokens\n",
    "4. click on generate new token\n",
    "5. add note: my-test-token\n",
    "6. select scopes: admin:org, and delete_repo (be very careful on permission you give here)\n",
    "7. click generate token\n",
    "8. copy token to\n",
    "\n",
    "Back to Jenkins\n",
    "1. manage jenkins\n",
    "2. configure system\n",
    "3. scroll down to github\n",
    "4. click on on Add GitHub server\n",
    "5. add name: github_api\n",
    "6. its api url: https://apigithub.com\n",
    "7. select credential dropdown: github_api\n",
    "8. check manage hooks and \n",
    "9. click on Test connection\n",
    "10. apply and save"
   ]
  },
  {
   "cell_type": "markdown",
   "metadata": {},
   "source": [
    "Now to Import few more credentials\n",
    "1. manage jenkins\n",
    "2. manage credentials\n",
    "3. go to jenkins\n",
    "4. go to global credentials\n",
    "5. go to add credentials\n",
    "6. select from kind dropdown: secret text\n",
    "7. add ID: AWS_ACCESS_KEY\n",
    "8. copy the secret value and paste\n",
    "9. click ok\n",
    "10. add credentials again: secret text, ID as AWS_SECRET_ACCESS_KEY, paste secret value\n",
    "11. click "
   ]
  },
  {
   "cell_type": "markdown",
   "metadata": {},
   "source": [
    "Now create a Jenkins job\n",
    "1. On the dashboard, click create a job\n",
    "2. enter an item name: jenkins-terraform-pipeline\n",
    "3. select pipeline on the list down\n",
    "4. click ok\n",
    "5. Now under Build Triggers, ensure you check: GitHub hook trigger for GITScm polling (TO BE DISCUSS BELOW)\n",
    "6. under pipeline, select: Pipeline script from SCM\n",
    "7. under SCM, select: Git\n",
    "8. under repository url: copy git repo url: example: the public url of the file path\n",
    "9. under script path: copy the jenkins file path: eg. jenkins-terraform-pipeline/ec2_pipeline, you have to add /jenkinsfile\n",
    "10. apply and save"
   ]
  },
  {
   "cell_type": "markdown",
   "metadata": {},
   "source": [
    "Return to dashboard\n",
    "1. go to job: Pipeline jenkins-terraform-pipeline\n",
    "2. click build now\n",
    "\n",
    "To view the job:\n",
    "1. click the job under build history\n",
    "\n",
    "To see console output\n",
    "1. click on console output\n",
    "\n",
    "to see it stages:\n",
    "1. return to status or dashboad."
   ]
  },
  {
   "cell_type": "markdown",
   "metadata": {},
   "source": [
    "Now to create automatic workflow, you will need to configure github webhooks\n",
    "1. in the repository bar, go to settings\n",
    "2. go to webhooks\n",
    "3. go to add webhook\n",
    "4. under payload url, copy your jenkins url and paste there: example, http:/34.222.195.13:8080/, then add github-webhook/ to it\n",
    "5. under content type, select: application/json\n",
    "6. under which events would you like to trigger this webhook?: select: send me everything\n",
    "7. click add webhook"
   ]
  },
  {
   "cell_type": "markdown",
   "metadata": {},
   "source": [
    "GIT merge Permission\n",
    "for a repos\n",
    "1. go to repos bar, click on setting\n",
    "2. go to branches\n",
    "3. under branches protection rules, click on add rule\n",
    "4. add Branch name pattern: master\n",
    "5. under protection matching branches, check rules you want to appliy: Require pull request reviews before merging, Require status checks topass before merging, Require branches to be up to date before merging\n",
    "6. click on create\n",
    "\n",
    "From here now, other users will need to create a branch and create pull request. the pull request has to be reviewed and merged by the admin user. This is because of this branch protection\n",
    "\n",
    "New Branch (Branch Protection) --> Pull Request --> Reviewing --> Merge --> Master"
   ]
  }
 ],
 "metadata": {
  "interpreter": {
   "hash": "467f8d70367559309eb27f4a3cd0e08bd7649ce31f3f7f47932850c89314e7c7"
  },
  "kernelspec": {
   "display_name": "Python 3.10.1 64-bit",
   "language": "python",
   "name": "python3"
  },
  "language_info": {
   "codemirror_mode": {
    "name": "ipython",
    "version": 3
   },
   "file_extension": ".py",
   "mimetype": "text/x-python",
   "name": "python",
   "nbconvert_exporter": "python",
   "pygments_lexer": "ipython3",
   "version": "3.10.1"
  },
  "orig_nbformat": 4
 },
 "nbformat": 4,
 "nbformat_minor": 2
}
